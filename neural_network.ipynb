{
 "cells": [
  {
   "cell_type": "code",
   "execution_count": 47,
   "metadata": {},
   "outputs": [],
   "source": [
    "import pandas as pd\n",
    "import numpy as np\n",
    "from sklearn.model_selection import train_test_split\n",
    "from sklearn.preprocessing import StandardScaler\n",
    "from tensorflow.keras.models import Sequential\n",
    "from tensorflow.keras.layers import Dense, Dropout\n",
    "from tensorflow.keras.optimizers import Adam\n"
   ]
  },
  {
   "cell_type": "code",
   "execution_count": 48,
   "metadata": {},
   "outputs": [],
   "source": [
    "# Load earthquake data\n",
    "earthquake_data = pd.read_csv('india_eatchquake_2000.csv')\n",
    "\n",
    "earthquake_data['time'] = pd.to_datetime(earthquake_data['time'])\n",
    "\n",
    "# Extract relevant features from 'time' column\n",
    "earthquake_data['year'] = earthquake_data['time'].dt.year\n",
    "earthquake_data['month'] = earthquake_data['time'].dt.month\n",
    "earthquake_data['day'] = earthquake_data['time'].dt.day\n",
    "earthquake_data['hour'] = earthquake_data['time'].dt.hour\n",
    "earthquake_data['minute'] = earthquake_data['time'].dt.minute\n",
    "earthquake_data['second'] = earthquake_data['time'].dt.second\n",
    "\n",
    "# Drop the original 'time' column\n",
    "earthquake_data.drop(columns=['time'], inplace=True)\n",
    "\n",
    "# Select relevant features (latitude, longitude, depth, year, month, day, hour, minute, second)\n",
    "features = earthquake_data[['latitude', 'longitude','depth', 'year', 'month', 'day', 'hour', 'minute', 'second']]\n",
    "\n",
    "# Target variable (magnitude)\n",
    "target = earthquake_data['mag']\n",
    "\n",
    "# Split the data into training and testing sets\n",
    "X_train, X_test, y_train, y_test = train_test_split(features, target, test_size=0.2, random_state=42)\n",
    "\n",
    "# Standardize features\n",
    "scaler = StandardScaler()\n",
    "X_train_scaled = scaler.fit_transform(X_train)\n",
    "X_test_scaled = scaler.transform(X_test)\n",
    "\n"
   ]
  },
  {
   "cell_type": "code",
   "execution_count": null,
   "metadata": {},
   "outputs": [],
   "source": []
  },
  {
   "cell_type": "code",
   "execution_count": 49,
   "metadata": {},
   "outputs": [
    {
     "name": "stderr",
     "output_type": "stream",
     "text": [
      "WARNING:absl:At this time, the v2.11+ optimizer `tf.keras.optimizers.Adam` runs slowly on M1/M2 Macs, please use the legacy Keras optimizer instead, located at `tf.keras.optimizers.legacy.Adam`.\n"
     ]
    },
    {
     "name": "stdout",
     "output_type": "stream",
     "text": [
      "Epoch 1/50\n",
      "221/221 [==============================] - 0s 900us/step - loss: 10433.9160 - val_loss: 17.6184\n",
      "Epoch 2/50\n",
      "221/221 [==============================] - 0s 700us/step - loss: 734.8984 - val_loss: 18.9534\n",
      "Epoch 3/50\n",
      "221/221 [==============================] - 0s 636us/step - loss: 260.9803 - val_loss: 16.3305\n",
      "Epoch 4/50\n",
      "221/221 [==============================] - 0s 851us/step - loss: 121.5934 - val_loss: 14.5335\n",
      "Epoch 5/50\n",
      "221/221 [==============================] - 0s 636us/step - loss: 73.7291 - val_loss: 11.2449\n",
      "Epoch 6/50\n",
      "221/221 [==============================] - 0s 625us/step - loss: 48.8616 - val_loss: 9.0871\n",
      "Epoch 7/50\n",
      "221/221 [==============================] - 0s 632us/step - loss: 38.7139 - val_loss: 9.5218\n",
      "Epoch 8/50\n",
      "221/221 [==============================] - 0s 646us/step - loss: 25.2021 - val_loss: 10.0027\n",
      "Epoch 9/50\n",
      "221/221 [==============================] - 0s 629us/step - loss: 20.6907 - val_loss: 9.1825\n",
      "Epoch 10/50\n",
      "221/221 [==============================] - 0s 724us/step - loss: 18.1966 - val_loss: 7.6541\n",
      "Epoch 11/50\n",
      "221/221 [==============================] - 0s 594us/step - loss: 16.3023 - val_loss: 5.9023\n",
      "Epoch 12/50\n",
      "221/221 [==============================] - 0s 628us/step - loss: 12.5418 - val_loss: 5.6713\n",
      "Epoch 13/50\n",
      "221/221 [==============================] - 0s 641us/step - loss: 9.9991 - val_loss: 5.5451\n",
      "Epoch 14/50\n",
      "221/221 [==============================] - 0s 641us/step - loss: 9.7410 - val_loss: 5.2838\n",
      "Epoch 15/50\n",
      "221/221 [==============================] - 0s 656us/step - loss: 10.1189 - val_loss: 4.8038\n",
      "Epoch 16/50\n",
      "221/221 [==============================] - 0s 630us/step - loss: 8.6614 - val_loss: 4.6661\n",
      "Epoch 17/50\n",
      "221/221 [==============================] - 0s 611us/step - loss: 7.8299 - val_loss: 3.5718\n",
      "Epoch 18/50\n",
      "221/221 [==============================] - 0s 715us/step - loss: 6.8418 - val_loss: 2.9711\n",
      "Epoch 19/50\n",
      "221/221 [==============================] - 0s 631us/step - loss: 4.9180 - val_loss: 2.7785\n",
      "Epoch 20/50\n",
      "221/221 [==============================] - 0s 755us/step - loss: 5.7088 - val_loss: 2.3437\n",
      "Epoch 21/50\n",
      "221/221 [==============================] - 0s 587us/step - loss: 4.2643 - val_loss: 2.0106\n",
      "Epoch 22/50\n",
      "221/221 [==============================] - 0s 576us/step - loss: 5.0656 - val_loss: 1.8103\n",
      "Epoch 23/50\n",
      "221/221 [==============================] - 0s 581us/step - loss: 3.3577 - val_loss: 1.9183\n",
      "Epoch 24/50\n",
      "221/221 [==============================] - 0s 589us/step - loss: 3.6936 - val_loss: 1.5144\n",
      "Epoch 25/50\n",
      "221/221 [==============================] - 0s 718us/step - loss: 2.5779 - val_loss: 1.5278\n",
      "Epoch 26/50\n",
      "221/221 [==============================] - 0s 591us/step - loss: 2.4641 - val_loss: 1.2875\n",
      "Epoch 27/50\n",
      "221/221 [==============================] - 0s 590us/step - loss: 2.4802 - val_loss: 1.1111\n",
      "Epoch 28/50\n",
      "221/221 [==============================] - 0s 593us/step - loss: 1.7514 - val_loss: 0.9027\n",
      "Epoch 29/50\n",
      "221/221 [==============================] - 0s 597us/step - loss: 2.2327 - val_loss: 0.8982\n",
      "Epoch 30/50\n",
      "221/221 [==============================] - 0s 588us/step - loss: 1.7459 - val_loss: 0.7598\n",
      "Epoch 31/50\n",
      "221/221 [==============================] - 0s 607us/step - loss: 1.1642 - val_loss: 0.6616\n",
      "Epoch 32/50\n",
      "221/221 [==============================] - 0s 765us/step - loss: 1.2112 - val_loss: 0.5415\n",
      "Epoch 33/50\n",
      "221/221 [==============================] - 0s 622us/step - loss: 1.0593 - val_loss: 0.5462\n",
      "Epoch 34/50\n",
      "221/221 [==============================] - 0s 599us/step - loss: 0.8928 - val_loss: 0.4594\n",
      "Epoch 35/50\n",
      "221/221 [==============================] - 0s 593us/step - loss: 0.7725 - val_loss: 0.3412\n",
      "Epoch 36/50\n",
      "221/221 [==============================] - 0s 620us/step - loss: 0.6172 - val_loss: 0.3606\n",
      "Epoch 37/50\n",
      "221/221 [==============================] - 0s 638us/step - loss: 0.6950 - val_loss: 0.3828\n",
      "Epoch 38/50\n",
      "221/221 [==============================] - 0s 590us/step - loss: 0.6674 - val_loss: 0.2830\n",
      "Epoch 39/50\n",
      "221/221 [==============================] - 0s 628us/step - loss: 0.7254 - val_loss: 0.2658\n",
      "Epoch 40/50\n",
      "221/221 [==============================] - 0s 621us/step - loss: 0.6557 - val_loss: 0.2375\n",
      "Epoch 41/50\n",
      "221/221 [==============================] - 0s 734us/step - loss: 0.3204 - val_loss: 0.2455\n",
      "Epoch 42/50\n",
      "221/221 [==============================] - 0s 607us/step - loss: 0.3664 - val_loss: 0.2276\n",
      "Epoch 43/50\n",
      "221/221 [==============================] - 0s 645us/step - loss: 0.3326 - val_loss: 0.2153\n",
      "Epoch 44/50\n",
      "221/221 [==============================] - 0s 649us/step - loss: 0.4369 - val_loss: 0.2091\n",
      "Epoch 45/50\n",
      "221/221 [==============================] - 0s 636us/step - loss: 0.2925 - val_loss: 0.2088\n",
      "Epoch 46/50\n",
      "221/221 [==============================] - 0s 621us/step - loss: 0.3629 - val_loss: 0.2101\n",
      "Epoch 47/50\n",
      "221/221 [==============================] - 0s 599us/step - loss: 0.2636 - val_loss: 0.2088\n",
      "Epoch 48/50\n",
      "221/221 [==============================] - 0s 605us/step - loss: 0.2640 - val_loss: 0.2090\n",
      "Epoch 49/50\n",
      "221/221 [==============================] - 0s 601us/step - loss: 0.2606 - val_loss: 0.2114\n",
      "Epoch 50/50\n",
      "221/221 [==============================] - 0s 596us/step - loss: 0.3916 - val_loss: 0.2088\n",
      "62/62 [==============================] - 0s 334us/step - loss: 0.2375\n",
      "Test Loss: 0.2374780923128128\n"
     ]
    }
   ],
   "source": [
    "# Define the neural network model\n",
    "model = Sequential([\n",
    "    Dense(128, activation='relu', input_shape=(X_train.shape[1],)),\n",
    "    Dropout(0.5),\n",
    "    Dense(64, activation='relu'),\n",
    "    Dropout(0.5),\n",
    "    Dense(32, activation='relu'),\n",
    "    Dropout(0.5),\n",
    "    Dense(1)  # Output layer\n",
    "])\n",
    "\n",
    "# Compile the model\n",
    "optimizer = Adam(learning_rate=0.001)\n",
    "model.compile(optimizer=optimizer, loss='mean_squared_error')\n",
    "\n",
    "# Train the model\n",
    "history = model.fit(X_train, y_train, epochs=50, batch_size=32, validation_split=0.1)\n",
    "\n",
    "# Evaluate the model on the test set\n",
    "loss = model.evaluate(X_test, y_test)\n",
    "print(\"Test Loss:\", loss)\n"
   ]
  },
  {
   "cell_type": "code",
   "execution_count": 50,
   "metadata": {},
   "outputs": [
    {
     "name": "stdout",
     "output_type": "stream",
     "text": [
      "62/62 [==============================] - 0s 359us/step\n",
      "[4.556753]\n",
      "Predicted magnitude: 4.556753  Actual magnitude: 4.6\n",
      "[4.523237]\n",
      "Predicted magnitude: 4.523237  Actual magnitude: 5.3\n",
      "[4.506553]\n",
      "Predicted magnitude: 4.506553  Actual magnitude: 4.3\n",
      "[4.544625]\n",
      "Predicted magnitude: 4.544625  Actual magnitude: 4.0\n",
      "[4.516438]\n",
      "Predicted magnitude: 4.516438  Actual magnitude: 4.1\n"
     ]
    }
   ],
   "source": [
    "\n",
    "# Make predictions\n",
    "predictions = model.predict(X_test_scaled)\n",
    "\n",
    "# Print some sample predictions\n",
    "for i in range(5):\n",
    "    print(predictions[i])\n",
    "    print(\"Predicted magnitude:\", predictions[i][0], \" Actual magnitude:\", y_test.iloc[i])\n",
    "    # print(\"Predicted depth:\", predictions[i], \" Actual depth:\", y_test.iloc[i])\n",
    "\n"
   ]
  },
  {
   "cell_type": "code",
   "execution_count": 51,
   "metadata": {},
   "outputs": [
    {
     "data": {
      "image/png": "[encoded data removed]",
      "text/plain": [
       "<Figure size 640x480 with 1 Axes>"
      ]
     },
     "metadata": {},
     "output_type": "display_data"
    }
   ],
   "source": [
    "# Plot training loss and validation loss\n",
    "import matplotlib.pyplot as plt\n",
    "\n",
    "plt.plot(history.history['loss'], label='Training Loss')\n",
    "plt.plot(history.history['val_loss'], label='Validation Loss')\n",
    "plt.xlabel('Epoch')\n",
    "plt.ylabel('Loss')\n",
    "plt.title('Training and Validation Loss')\n",
    "plt.legend()\n",
    "plt.show()"
   ]
  },
  {
   "cell_type": "code",
   "execution_count": 52,
   "metadata": {},
   "outputs": [
    {
     "name": "stdout",
     "output_type": "stream",
     "text": [
      "Accuracy: 0.7571283095723014\n",
      "Precision: 0.5732432771558107\n",
      "Recall: 0.7571283095723014\n",
      "F1-score: 0.6524774247082076\n"
     ]
    },
    {
     "name": "stderr",
     "output_type": "stream",
     "text": [
      "/opt/homebrew/lib/python3.11/site-packages/sklearn/metrics/_classification.py:1471: UndefinedMetricWarning: Precision is ill-defined and being set to 0.0 in labels with no predicted samples. Use `zero_division` parameter to control this behavior.\n",
      "  _warn_prf(average, modifier, msg_start, len(result))\n"
     ]
    }
   ],
   "source": [
    "from sklearn.metrics import accuracy_score, precision_score, recall_score, f1_score\n",
    "\n",
    "# Define thresholds for earthquake magnitude levels\n",
    "thresholds = [3.0, 4.0, 5.0, 6.0]\n",
    "\n",
    "# Convert predictions and actual magnitudes to binary labels based on thresholds\n",
    "def classify_magnitude(magnitude, thresholds):\n",
    "    for i, threshold in enumerate(thresholds):\n",
    "        if magnitude < threshold:\n",
    "            return i\n",
    "    return len(thresholds)\n",
    "\n",
    "y_pred_class = [classify_magnitude(pred, thresholds) for pred in predictions]\n",
    "y_test_class = [classify_magnitude(true, thresholds) for true in y_test]\n",
    "\n",
    "# Calculate classification metrics\n",
    "accuracy = accuracy_score(y_test_class, y_pred_class)\n",
    "precision = precision_score(y_test_class, y_pred_class, average='weighted')\n",
    "recall = recall_score(y_test_class, y_pred_class, average='weighted')\n",
    "f1 = f1_score(y_test_class, y_pred_class, average='weighted')\n",
    "\n",
    "print(\"Accuracy:\", accuracy)\n",
    "print(\"Precision:\", precision)\n",
    "print(\"Recall:\", recall)\n",
    "print(\"F1-score:\", f1)\n"
   ]
  },
  {
   "cell_type": "code",
   "execution_count": 53,
   "metadata": {},
   "outputs": [
    {
     "name": "stdout",
     "output_type": "stream",
     "text": [
      "[[ 6.61748851e-01 -4.50750924e-02 -7.65392414e-01 ... -1.23682571e+00\n",
      "  -9.75216235e-01  1.41482541e+00]\n",
      " [ 1.20303349e+00 -4.98705437e-01 -6.90024739e-01 ...  7.72643804e-01\n",
      "  -1.14904300e+00  1.06956453e+00]\n",
      " [-1.37809791e+00  7.00164486e-01 -7.65889764e-01 ... -8.85574149e-02\n",
      "   1.28453170e+00  3.37818902e-02]\n",
      " ...\n",
      " [ 1.22322742e+00 -7.48676756e-01 -7.65392414e-01 ...  1.05971088e+00\n",
      "   1.22658944e+00 -7.14283348e-01]\n",
      " [-1.41052050e+00  7.14067762e-01 -7.65392414e-01 ... -1.23682571e+00\n",
      "   7.05109151e-01  4.94129729e-01]\n",
      " [-1.27075398e+00  6.70895692e-01 -2.38350945e-04 ...  1.98509658e-01\n",
      "  -7.43447217e-01 -2.37615897e-02]]\n"
     ]
    }
   ],
   "source": [
    "print(X_train_scaled)"
   ]
  },
  {
   "cell_type": "code",
   "execution_count": 54,
   "metadata": {},
   "outputs": [
    {
     "name": "stderr",
     "output_type": "stream",
     "text": [
      "WARNING:absl:At this time, the v2.11+ optimizer `tf.keras.optimizers.Adam` runs slowly on M1/M2 Macs, please use the legacy Keras optimizer instead, located at `tf.keras.optimizers.legacy.Adam`.\n"
     ]
    },
    {
     "name": "stdout",
     "output_type": "stream",
     "text": [
      "Epoch 1/50\n",
      "58862/77530 [=====================>........] - ETA: 9s - loss: 0.7453"
     ]
    }
   ],
   "source": []
  },
  {
   "cell_type": "code",
   "execution_count": null,
   "metadata": {},
   "outputs": [],
   "source": []
  }
 ],
 "metadata": {
  "kernelspec": {
   "display_name": "Python 3",
   "language": "python",
   "name": "python3"
  },
  "language_info": {
   "codemirror_mode": {
    "name": "ipython",
    "version": 3
   },
   "file_extension": ".py",
   "mimetype": "text/x-python",
   "name": "python",
   "nbconvert_exporter": "python",
   "pygments_lexer": "ipython3",
   "version": "3.11.9"
  }
 },
 "nbformat": 4,
 "nbformat_minor": 2
}
