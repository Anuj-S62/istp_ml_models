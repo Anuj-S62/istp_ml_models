{
 "cells": [
  {
   "cell_type": "code",
   "execution_count": 2,
   "metadata": {},
   "outputs": [],
   "source": [
    "import numpy as np  \n",
    "import pandas as pd  \n",
    "import matplotlib.pyplot as plt  \n",
    "  \n",
    "import os  \n",
    "# print(os.listdir(\"../input\"))  "
   ]
  },
  {
   "cell_type": "code",
   "execution_count": 3,
   "metadata": {},
   "outputs": [
    {
     "data": {
      "text/html": [
       "<div>\n",
       "<style scoped>\n",
       "    .dataframe tbody tr th:only-of-type {\n",
       "        vertical-align: middle;\n",
       "    }\n",
       "\n",
       "    .dataframe tbody tr th {\n",
       "        vertical-align: top;\n",
       "    }\n",
       "\n",
       "    .dataframe thead th {\n",
       "        text-align: right;\n",
       "    }\n",
       "</style>\n",
       "<table border=\"1\" class=\"dataframe\">\n",
       "  <thead>\n",
       "    <tr style=\"text-align: right;\">\n",
       "      <th></th>\n",
       "      <th>Date</th>\n",
       "      <th>Time</th>\n",
       "      <th>Latitude</th>\n",
       "      <th>Longitude</th>\n",
       "      <th>Type</th>\n",
       "      <th>Depth</th>\n",
       "      <th>Depth Error</th>\n",
       "      <th>Depth Seismic Stations</th>\n",
       "      <th>Magnitude</th>\n",
       "      <th>Magnitude Type</th>\n",
       "      <th>...</th>\n",
       "      <th>Magnitude Seismic Stations</th>\n",
       "      <th>Azimuthal Gap</th>\n",
       "      <th>Horizontal Distance</th>\n",
       "      <th>Horizontal Error</th>\n",
       "      <th>Root Mean Square</th>\n",
       "      <th>ID</th>\n",
       "      <th>Source</th>\n",
       "      <th>Location Source</th>\n",
       "      <th>Magnitude Source</th>\n",
       "      <th>Status</th>\n",
       "    </tr>\n",
       "  </thead>\n",
       "  <tbody>\n",
       "    <tr>\n",
       "      <th>0</th>\n",
       "      <td>01/02/1965</td>\n",
       "      <td>13:44:18</td>\n",
       "      <td>19.246</td>\n",
       "      <td>145.616</td>\n",
       "      <td>Earthquake</td>\n",
       "      <td>131.6</td>\n",
       "      <td>NaN</td>\n",
       "      <td>NaN</td>\n",
       "      <td>6.0</td>\n",
       "      <td>MW</td>\n",
       "      <td>...</td>\n",
       "      <td>NaN</td>\n",
       "      <td>NaN</td>\n",
       "      <td>NaN</td>\n",
       "      <td>NaN</td>\n",
       "      <td>NaN</td>\n",
       "      <td>ISCGEM860706</td>\n",
       "      <td>ISCGEM</td>\n",
       "      <td>ISCGEM</td>\n",
       "      <td>ISCGEM</td>\n",
       "      <td>Automatic</td>\n",
       "    </tr>\n",
       "    <tr>\n",
       "      <th>1</th>\n",
       "      <td>01/04/1965</td>\n",
       "      <td>11:29:49</td>\n",
       "      <td>1.863</td>\n",
       "      <td>127.352</td>\n",
       "      <td>Earthquake</td>\n",
       "      <td>80.0</td>\n",
       "      <td>NaN</td>\n",
       "      <td>NaN</td>\n",
       "      <td>5.8</td>\n",
       "      <td>MW</td>\n",
       "      <td>...</td>\n",
       "      <td>NaN</td>\n",
       "      <td>NaN</td>\n",
       "      <td>NaN</td>\n",
       "      <td>NaN</td>\n",
       "      <td>NaN</td>\n",
       "      <td>ISCGEM860737</td>\n",
       "      <td>ISCGEM</td>\n",
       "      <td>ISCGEM</td>\n",
       "      <td>ISCGEM</td>\n",
       "      <td>Automatic</td>\n",
       "    </tr>\n",
       "    <tr>\n",
       "      <th>2</th>\n",
       "      <td>01/05/1965</td>\n",
       "      <td>18:05:58</td>\n",
       "      <td>-20.579</td>\n",
       "      <td>-173.972</td>\n",
       "      <td>Earthquake</td>\n",
       "      <td>20.0</td>\n",
       "      <td>NaN</td>\n",
       "      <td>NaN</td>\n",
       "      <td>6.2</td>\n",
       "      <td>MW</td>\n",
       "      <td>...</td>\n",
       "      <td>NaN</td>\n",
       "      <td>NaN</td>\n",
       "      <td>NaN</td>\n",
       "      <td>NaN</td>\n",
       "      <td>NaN</td>\n",
       "      <td>ISCGEM860762</td>\n",
       "      <td>ISCGEM</td>\n",
       "      <td>ISCGEM</td>\n",
       "      <td>ISCGEM</td>\n",
       "      <td>Automatic</td>\n",
       "    </tr>\n",
       "    <tr>\n",
       "      <th>3</th>\n",
       "      <td>01/08/1965</td>\n",
       "      <td>18:49:43</td>\n",
       "      <td>-59.076</td>\n",
       "      <td>-23.557</td>\n",
       "      <td>Earthquake</td>\n",
       "      <td>15.0</td>\n",
       "      <td>NaN</td>\n",
       "      <td>NaN</td>\n",
       "      <td>5.8</td>\n",
       "      <td>MW</td>\n",
       "      <td>...</td>\n",
       "      <td>NaN</td>\n",
       "      <td>NaN</td>\n",
       "      <td>NaN</td>\n",
       "      <td>NaN</td>\n",
       "      <td>NaN</td>\n",
       "      <td>ISCGEM860856</td>\n",
       "      <td>ISCGEM</td>\n",
       "      <td>ISCGEM</td>\n",
       "      <td>ISCGEM</td>\n",
       "      <td>Automatic</td>\n",
       "    </tr>\n",
       "    <tr>\n",
       "      <th>4</th>\n",
       "      <td>01/09/1965</td>\n",
       "      <td>13:32:50</td>\n",
       "      <td>11.938</td>\n",
       "      <td>126.427</td>\n",
       "      <td>Earthquake</td>\n",
       "      <td>15.0</td>\n",
       "      <td>NaN</td>\n",
       "      <td>NaN</td>\n",
       "      <td>5.8</td>\n",
       "      <td>MW</td>\n",
       "      <td>...</td>\n",
       "      <td>NaN</td>\n",
       "      <td>NaN</td>\n",
       "      <td>NaN</td>\n",
       "      <td>NaN</td>\n",
       "      <td>NaN</td>\n",
       "      <td>ISCGEM860890</td>\n",
       "      <td>ISCGEM</td>\n",
       "      <td>ISCGEM</td>\n",
       "      <td>ISCGEM</td>\n",
       "      <td>Automatic</td>\n",
       "    </tr>\n",
       "  </tbody>\n",
       "</table>\n",
       "<p>5 rows × 21 columns</p>\n",
       "</div>"
      ],
      "text/plain": [
       "         Date      Time  Latitude  Longitude        Type  Depth  Depth Error  \\\n",
       "0  01/02/1965  13:44:18    19.246    145.616  Earthquake  131.6          NaN   \n",
       "1  01/04/1965  11:29:49     1.863    127.352  Earthquake   80.0          NaN   \n",
       "2  01/05/1965  18:05:58   -20.579   -173.972  Earthquake   20.0          NaN   \n",
       "3  01/08/1965  18:49:43   -59.076    -23.557  Earthquake   15.0          NaN   \n",
       "4  01/09/1965  13:32:50    11.938    126.427  Earthquake   15.0          NaN   \n",
       "\n",
       "   Depth Seismic Stations  Magnitude Magnitude Type  ...  \\\n",
       "0                     NaN        6.0             MW  ...   \n",
       "1                     NaN        5.8             MW  ...   \n",
       "2                     NaN        6.2             MW  ...   \n",
       "3                     NaN        5.8             MW  ...   \n",
       "4                     NaN        5.8             MW  ...   \n",
       "\n",
       "   Magnitude Seismic Stations  Azimuthal Gap  Horizontal Distance  \\\n",
       "0                         NaN            NaN                  NaN   \n",
       "1                         NaN            NaN                  NaN   \n",
       "2                         NaN            NaN                  NaN   \n",
       "3                         NaN            NaN                  NaN   \n",
       "4                         NaN            NaN                  NaN   \n",
       "\n",
       "   Horizontal Error  Root Mean Square            ID  Source Location Source  \\\n",
       "0               NaN               NaN  ISCGEM860706  ISCGEM          ISCGEM   \n",
       "1               NaN               NaN  ISCGEM860737  ISCGEM          ISCGEM   \n",
       "2               NaN               NaN  ISCGEM860762  ISCGEM          ISCGEM   \n",
       "3               NaN               NaN  ISCGEM860856  ISCGEM          ISCGEM   \n",
       "4               NaN               NaN  ISCGEM860890  ISCGEM          ISCGEM   \n",
       "\n",
       "  Magnitude Source     Status  \n",
       "0           ISCGEM  Automatic  \n",
       "1           ISCGEM  Automatic  \n",
       "2           ISCGEM  Automatic  \n",
       "3           ISCGEM  Automatic  \n",
       "4           ISCGEM  Automatic  \n",
       "\n",
       "[5 rows x 21 columns]"
      ]
     },
     "execution_count": 3,
     "metadata": {},
     "output_type": "execute_result"
    }
   ],
   "source": [
    "data = pd.read_csv(\"database.csv\")  \n",
    "data.head()  "
   ]
  },
  {
   "cell_type": "code",
   "execution_count": 4,
   "metadata": {},
   "outputs": [
    {
     "data": {
      "text/plain": [
       "Index(['Date', 'Time', 'Latitude', 'Longitude', 'Type', 'Depth', 'Depth Error',\n",
       "       'Depth Seismic Stations', 'Magnitude', 'Magnitude Type',\n",
       "       'Magnitude Error', 'Magnitude Seismic Stations', 'Azimuthal Gap',\n",
       "       'Horizontal Distance', 'Horizontal Error', 'Root Mean Square', 'ID',\n",
       "       'Source', 'Location Source', 'Magnitude Source', 'Status'],\n",
       "      dtype='object')"
      ]
     },
     "execution_count": 4,
     "metadata": {},
     "output_type": "execute_result"
    }
   ],
   "source": [
    "data.columns  \n"
   ]
  },
  {
   "cell_type": "code",
   "execution_count": 5,
   "metadata": {},
   "outputs": [
    {
     "data": {
      "text/html": [
       "<div>\n",
       "<style scoped>\n",
       "    .dataframe tbody tr th:only-of-type {\n",
       "        vertical-align: middle;\n",
       "    }\n",
       "\n",
       "    .dataframe tbody tr th {\n",
       "        vertical-align: top;\n",
       "    }\n",
       "\n",
       "    .dataframe thead th {\n",
       "        text-align: right;\n",
       "    }\n",
       "</style>\n",
       "<table border=\"1\" class=\"dataframe\">\n",
       "  <thead>\n",
       "    <tr style=\"text-align: right;\">\n",
       "      <th></th>\n",
       "      <th>Date</th>\n",
       "      <th>Time</th>\n",
       "      <th>Latitude</th>\n",
       "      <th>Longitude</th>\n",
       "      <th>Depth</th>\n",
       "      <th>Magnitude</th>\n",
       "    </tr>\n",
       "  </thead>\n",
       "  <tbody>\n",
       "    <tr>\n",
       "      <th>0</th>\n",
       "      <td>01/02/1965</td>\n",
       "      <td>13:44:18</td>\n",
       "      <td>19.246</td>\n",
       "      <td>145.616</td>\n",
       "      <td>131.6</td>\n",
       "      <td>6.0</td>\n",
       "    </tr>\n",
       "    <tr>\n",
       "      <th>1</th>\n",
       "      <td>01/04/1965</td>\n",
       "      <td>11:29:49</td>\n",
       "      <td>1.863</td>\n",
       "      <td>127.352</td>\n",
       "      <td>80.0</td>\n",
       "      <td>5.8</td>\n",
       "    </tr>\n",
       "    <tr>\n",
       "      <th>2</th>\n",
       "      <td>01/05/1965</td>\n",
       "      <td>18:05:58</td>\n",
       "      <td>-20.579</td>\n",
       "      <td>-173.972</td>\n",
       "      <td>20.0</td>\n",
       "      <td>6.2</td>\n",
       "    </tr>\n",
       "    <tr>\n",
       "      <th>3</th>\n",
       "      <td>01/08/1965</td>\n",
       "      <td>18:49:43</td>\n",
       "      <td>-59.076</td>\n",
       "      <td>-23.557</td>\n",
       "      <td>15.0</td>\n",
       "      <td>5.8</td>\n",
       "    </tr>\n",
       "    <tr>\n",
       "      <th>4</th>\n",
       "      <td>01/09/1965</td>\n",
       "      <td>13:32:50</td>\n",
       "      <td>11.938</td>\n",
       "      <td>126.427</td>\n",
       "      <td>15.0</td>\n",
       "      <td>5.8</td>\n",
       "    </tr>\n",
       "  </tbody>\n",
       "</table>\n",
       "</div>"
      ],
      "text/plain": [
       "         Date      Time  Latitude  Longitude  Depth  Magnitude\n",
       "0  01/02/1965  13:44:18    19.246    145.616  131.6        6.0\n",
       "1  01/04/1965  11:29:49     1.863    127.352   80.0        5.8\n",
       "2  01/05/1965  18:05:58   -20.579   -173.972   20.0        6.2\n",
       "3  01/08/1965  18:49:43   -59.076    -23.557   15.0        5.8\n",
       "4  01/09/1965  13:32:50    11.938    126.427   15.0        5.8"
      ]
     },
     "execution_count": 5,
     "metadata": {},
     "output_type": "execute_result"
    }
   ],
   "source": [
    "data = data[['Date', 'Time', 'Latitude', 'Longitude', 'Depth', 'Magnitude']]  \n",
    "data.head()  "
   ]
  },
  {
   "cell_type": "code",
   "execution_count": 6,
   "metadata": {},
   "outputs": [],
   "source": [
    "import datetime  \n",
    "import time  \n",
    "  \n",
    "timestamp = []  \n",
    "for d, t in zip(data['Date'], data['Time']):  \n",
    "    try:  \n",
    "        ts = datetime.datetime.strptime(d+' '+t, '%m/%d/%Y %H:%M:%S')  \n",
    "        timestamp.append(time.mktime(ts.timetuple()))  \n",
    "    except ValueError:  \n",
    "        # print('ValueError')  \n",
    "        timestamp.append('ValueError')  "
   ]
  },
  {
   "cell_type": "code",
   "execution_count": 7,
   "metadata": {},
   "outputs": [],
   "source": [
    "timeStamp = pd.Series(timestamp)  \n",
    "data['Timestamp'] = timeStamp.values  "
   ]
  },
  {
   "cell_type": "code",
   "execution_count": 8,
   "metadata": {},
   "outputs": [
    {
     "data": {
      "text/html": [
       "<div>\n",
       "<style scoped>\n",
       "    .dataframe tbody tr th:only-of-type {\n",
       "        vertical-align: middle;\n",
       "    }\n",
       "\n",
       "    .dataframe tbody tr th {\n",
       "        vertical-align: top;\n",
       "    }\n",
       "\n",
       "    .dataframe thead th {\n",
       "        text-align: right;\n",
       "    }\n",
       "</style>\n",
       "<table border=\"1\" class=\"dataframe\">\n",
       "  <thead>\n",
       "    <tr style=\"text-align: right;\">\n",
       "      <th></th>\n",
       "      <th>Latitude</th>\n",
       "      <th>Longitude</th>\n",
       "      <th>Depth</th>\n",
       "      <th>Magnitude</th>\n",
       "      <th>Timestamp</th>\n",
       "    </tr>\n",
       "  </thead>\n",
       "  <tbody>\n",
       "    <tr>\n",
       "      <th>0</th>\n",
       "      <td>19.246</td>\n",
       "      <td>145.616</td>\n",
       "      <td>131.6</td>\n",
       "      <td>6.0</td>\n",
       "      <td>-157650342.0</td>\n",
       "    </tr>\n",
       "    <tr>\n",
       "      <th>1</th>\n",
       "      <td>1.863</td>\n",
       "      <td>127.352</td>\n",
       "      <td>80.0</td>\n",
       "      <td>5.8</td>\n",
       "      <td>-157485611.0</td>\n",
       "    </tr>\n",
       "    <tr>\n",
       "      <th>2</th>\n",
       "      <td>-20.579</td>\n",
       "      <td>-173.972</td>\n",
       "      <td>20.0</td>\n",
       "      <td>6.2</td>\n",
       "      <td>-157375442.0</td>\n",
       "    </tr>\n",
       "    <tr>\n",
       "      <th>3</th>\n",
       "      <td>-59.076</td>\n",
       "      <td>-23.557</td>\n",
       "      <td>15.0</td>\n",
       "      <td>5.8</td>\n",
       "      <td>-157113617.0</td>\n",
       "    </tr>\n",
       "    <tr>\n",
       "      <th>4</th>\n",
       "      <td>11.938</td>\n",
       "      <td>126.427</td>\n",
       "      <td>15.0</td>\n",
       "      <td>5.8</td>\n",
       "      <td>-157046230.0</td>\n",
       "    </tr>\n",
       "  </tbody>\n",
       "</table>\n",
       "</div>"
      ],
      "text/plain": [
       "   Latitude  Longitude  Depth  Magnitude    Timestamp\n",
       "0    19.246    145.616  131.6        6.0 -157650342.0\n",
       "1     1.863    127.352   80.0        5.8 -157485611.0\n",
       "2   -20.579   -173.972   20.0        6.2 -157375442.0\n",
       "3   -59.076    -23.557   15.0        5.8 -157113617.0\n",
       "4    11.938    126.427   15.0        5.8 -157046230.0"
      ]
     },
     "execution_count": 8,
     "metadata": {},
     "output_type": "execute_result"
    }
   ],
   "source": [
    "final_data = data.drop(['Date', 'Time'], axis=1)  \n",
    "final_data = final_data[final_data.Timestamp != 'ValueError']  \n",
    "final_data.head()  "
   ]
  },
  {
   "cell_type": "code",
   "execution_count": 9,
   "metadata": {},
   "outputs": [],
   "source": [
    "# from mpl_toolkits.basemap import Basemap  \n",
    "  \n",
    "# m = Basemap(projection='mill',llcrnrlat=-80,urcrnrlat=80, llcrnrlon=-180,urcrnrlon=180,lat_ts=20,resolution='c')  \n",
    "  \n",
    "# longitudes = data[\"Longitude\"].tolist()  \n",
    "# latitudes = data[\"Latitude\"].tolist()  \n",
    "# #m = Basemap(width=12000000,height=9000000,projection='lcc',  \n",
    "#             #resolution=None,lat_1=80.,lat_2=55,lat_0=80,lon_0=-107.)  \n",
    "# x,y = m(longitudes,latitudes)  "
   ]
  },
  {
   "cell_type": "code",
   "execution_count": 10,
   "metadata": {},
   "outputs": [],
   "source": [
    "X = final_data[['Timestamp', 'Latitude', 'Longitude']]  \n",
    "y = final_data[['Magnitude', 'Depth']]  "
   ]
  },
  {
   "cell_type": "code",
   "execution_count": 11,
   "metadata": {},
   "outputs": [
    {
     "name": "stdout",
     "output_type": "stream",
     "text": [
      "(18727, 3) (4682, 3) (18727, 2) (4682, 3)\n"
     ]
    }
   ],
   "source": [
    "from sklearn.model_selection import train_test_split\n",
    "  \n",
    "X_train, X_test, y_train, y_test = train_test_split(X, y, test_size=0.2, random_state=42)  \n",
    "print(X_train.shape, X_test.shape, y_train.shape, X_test.shape)  "
   ]
  },
  {
   "cell_type": "code",
   "execution_count": 16,
   "metadata": {},
   "outputs": [
    {
     "data": {
      "text/plain": [
       "array([[  5.862,  40.987],\n",
       "       [  5.799,  33.306],\n",
       "       [  6.077,  40.516],\n",
       "       ...,\n",
       "       [  6.326,  22.906],\n",
       "       [  5.856, 593.098],\n",
       "       [  5.833,  37.739]])"
      ]
     },
     "execution_count": 16,
     "metadata": {},
     "output_type": "execute_result"
    }
   ],
   "source": [
    "from sklearn.ensemble import RandomForestRegressor\n",
    "\n",
    "reg = RandomForestRegressor(random_state=42)  \n",
    "reg.fit(X_train, y_train)  \n",
    "reg.predict(X_test)  "
   ]
  },
  {
   "cell_type": "code",
   "execution_count": 13,
   "metadata": {},
   "outputs": [
    {
     "data": {
      "text/plain": [
       "array([[  5.8844 ,  43.3644 ],\n",
       "       [  5.8122 ,  31.48516],\n",
       "       [  6.0146 ,  39.2084 ],\n",
       "       ...,\n",
       "       [  6.325  ,  22.3666 ],\n",
       "       [  5.911  , 592.0704 ],\n",
       "       [  5.7798 ,  39.3888 ]])"
      ]
     },
     "execution_count": 13,
     "metadata": {},
     "output_type": "execute_result"
    }
   ],
   "source": [
    "from sklearn.model_selection import GridSearchCV  \n",
    "  \n",
    "parameters = {'n_estimators':[10, 20, 50, 100, 200, 500]}  \n",
    "  \n",
    "grid_obj = GridSearchCV(reg, parameters)  \n",
    "grid_fit = grid_obj.fit(X_train, y_train)  \n",
    "best_fit = grid_fit.best_estimator_  \n",
    "best_fit.predict(X_test)  \n"
   ]
  },
  {
   "cell_type": "code",
   "execution_count": 14,
   "metadata": {},
   "outputs": [
    {
     "data": {
      "text/plain": [
       "0.39698694148325175"
      ]
     },
     "execution_count": 14,
     "metadata": {},
     "output_type": "execute_result"
    }
   ],
   "source": [
    "best_fit.score(X_test, y_test)  \n"
   ]
  },
  {
   "cell_type": "code",
   "execution_count": 17,
   "metadata": {},
   "outputs": [],
   "source": [
    "from keras.models import Sequential  \n",
    "from keras.layers import Dense  \n",
    "  \n",
    "def create_model(neurons, activation, optimizer, loss):  \n",
    "    model = Sequential()  \n",
    "    model.add(Dense(neurons, activation=activation, input_shape=(3,)))  \n",
    "    model.add(Dense(neurons, activation=activation))  \n",
    "    model.add(Dense(2, activation='softmax'))  \n",
    "      \n",
    "    model.compile(optimizer=optimizer, loss=loss, metrics=['accuracy'])  \n",
    "      \n",
    "    return model  "
   ]
  },
  {
   "cell_type": "code",
   "execution_count": 26,
   "metadata": {},
   "outputs": [],
   "source": [
    "# import keras classifier\n",
    "# %pip install keras\n",
    "from scikeras.wrappers import KerasClassifier  \n",
    "\n",
    "model = KerasClassifier(build_fn=create_model, verbose=0,activation='sigmoid', optimizer='SGD', loss='squared_hinge',neurons=16,batch_size=10,epochs=10,validation_split=0.2)  \n",
    "  \n",
    "# neurons = [16, 64, 128, 256]  \n",
    "neurons = [16]  \n",
    "# batch_size = [10, 20, 50, 100]  \n",
    "batch_size = [10]  \n",
    "epochs = [10]  \n",
    "# activation = ['relu', 'tanh', 'sigmoid', 'hard_sigmoid', 'linear', 'exponential']  \n",
    "activation = ['sigmoid', 'relu']  \n",
    "# optimizer = ['SGD', 'RMSprop', 'Adagrad', 'Adadelta', 'Adam', 'Adamax', 'Nadam']  \n",
    "optimizer = ['SGD', 'Adadelta']  \n",
    "loss = ['squared_hinge']  \n",
    "  \n",
    "param_grid = dict(neurons=neurons, batch_size=batch_size, epochs=epochs, activation=activation, optimizer=optimizer, loss=loss)  "
   ]
  },
  {
   "cell_type": "code",
   "execution_count": 30,
   "metadata": {},
   "outputs": [
    {
     "ename": "NameError",
     "evalue": "name 'means' is not defined",
     "output_type": "error",
     "traceback": [
      "\u001b[0;31m---------------------------------------------------------------------------\u001b[0m",
      "\u001b[0;31mNameError\u001b[0m                                 Traceback (most recent call last)",
      "Cell \u001b[0;32mIn[30], line 15\u001b[0m\n\u001b[1;32m     12\u001b[0m     \u001b[38;5;129m@target_encoder\u001b[39m\u001b[38;5;241m.\u001b[39msetter\n\u001b[1;32m     13\u001b[0m     \u001b[38;5;28;01mdef\u001b[39;00m \u001b[38;5;21mtarget_encoder\u001b[39m(\u001b[38;5;28mself\u001b[39m, encoder):\n\u001b[1;32m     14\u001b[0m         \u001b[38;5;28mself\u001b[39m\u001b[38;5;241m.\u001b[39m_target_encoder \u001b[38;5;241m=\u001b[39m encoder\n\u001b[0;32m---> 15\u001b[0m \u001b[38;5;28;01mfor\u001b[39;00m mean, stdev, param \u001b[38;5;129;01min\u001b[39;00m \u001b[38;5;28mzip\u001b[39m(\u001b[43mmeans\u001b[49m, stds, params):\n\u001b[1;32m     16\u001b[0m     \u001b[38;5;28mprint\u001b[39m(\u001b[38;5;124m\"\u001b[39m\u001b[38;5;132;01m%f\u001b[39;00m\u001b[38;5;124m (\u001b[39m\u001b[38;5;132;01m%f\u001b[39;00m\u001b[38;5;124m) with: \u001b[39m\u001b[38;5;132;01m%r\u001b[39;00m\u001b[38;5;124m\"\u001b[39m \u001b[38;5;241m%\u001b[39m (mean, stdev, param))\n",
      "\u001b[0;31mNameError\u001b[0m: name 'means' is not defined"
     ]
    }
   ],
   "source": [
    "import numpy\n",
    "from sklearn.model_selection import GridSearchCV\n",
    "grid = GridSearchCV(estimator=model, param_grid=param_grid, n_jobs=-1)\n",
    "grid_result = grid.fit(X_train, y_train)  \n",
    "\n",
    "print(\"Best: %f using %s\" % (grid_result.best_score_, grid_result.best_params_))  \n",
    "means = grid_result.cv_results_['mean_test_score']  \n",
    "stds = grid_result.cv_results_['std_test_score']  \n",
    "params = grid_result.cv_results_['params']  \n",
    "for mean, stdev, param in zip(means, stds, params):  \n",
    "    print(\"%f (%f) with: %r\" % (mean, stdev, param))  "
   ]
  },
  {
   "cell_type": "code",
   "execution_count": 31,
   "metadata": {},
   "outputs": [],
   "source": [
    "model = Sequential()  \n",
    "model.add(Dense(16, activation='relu', input_shape=(3,)))  \n",
    "model.add(Dense(16, activation='relu'))  \n",
    "model.add(Dense(2, activation='softmax'))  \n",
    "  \n",
    "model.compile(optimizer='SGD', loss='squared_hinge', metrics=['accuracy'])  "
   ]
  },
  {
   "cell_type": "code",
   "execution_count": 36,
   "metadata": {},
   "outputs": [
    {
     "name": "stdout",
     "output_type": "stream",
     "text": [
      "Epoch 1/10\n",
      "1499/1499 [==============================] - 1s 433us/step - loss: 0.5036 - accuracy: 0.9816 - val_loss: 0.5046 - val_accuracy: 0.9789\n",
      "Epoch 2/10\n",
      "1499/1499 [==============================] - 1s 415us/step - loss: 0.5036 - accuracy: 0.9816 - val_loss: 0.5046 - val_accuracy: 0.9789\n",
      "Epoch 3/10\n",
      "1499/1499 [==============================] - 1s 431us/step - loss: 0.5036 - accuracy: 0.9816 - val_loss: 0.5046 - val_accuracy: 0.9789\n",
      "Epoch 4/10\n",
      "1499/1499 [==============================] - 1s 420us/step - loss: 0.5036 - accuracy: 0.9816 - val_loss: 0.5046 - val_accuracy: 0.9789\n",
      "Epoch 5/10\n",
      "1499/1499 [==============================] - 1s 414us/step - loss: 0.5036 - accuracy: 0.9816 - val_loss: 0.5046 - val_accuracy: 0.9789\n",
      "Epoch 6/10\n",
      "1499/1499 [==============================] - 1s 414us/step - loss: 0.5036 - accuracy: 0.9816 - val_loss: 0.5046 - val_accuracy: 0.9789\n",
      "Epoch 7/10\n",
      "1499/1499 [==============================] - 1s 421us/step - loss: 0.5036 - accuracy: 0.9816 - val_loss: 0.5046 - val_accuracy: 0.9789\n",
      "Epoch 8/10\n",
      "1499/1499 [==============================] - 1s 484us/step - loss: 0.5036 - accuracy: 0.9816 - val_loss: 0.5046 - val_accuracy: 0.9789\n",
      "Epoch 9/10\n",
      "1499/1499 [==============================] - 1s 539us/step - loss: 0.5036 - accuracy: 0.9816 - val_loss: 0.5046 - val_accuracy: 0.9789\n",
      "Epoch 10/10\n",
      "1499/1499 [==============================] - 1s 464us/step - loss: 0.5036 - accuracy: 0.9816 - val_loss: 0.5046 - val_accuracy: 0.9789\n",
      "147/147 [==============================] - 0s 326us/step - loss: 0.5038 - accuracy: 0.9814\n",
      "147/147 [==============================] - 0s 296us/step\n"
     ]
    },
    {
     "data": {
      "text/plain": [
       "array([[0., 1.],\n",
       "       [0., 1.],\n",
       "       [0., 1.],\n",
       "       ...,\n",
       "       [0., 1.],\n",
       "       [0., 1.],\n",
       "       [0., 1.]], dtype=float32)"
      ]
     },
     "execution_count": 36,
     "metadata": {},
     "output_type": "execute_result"
    }
   ],
   "source": [
    "X_train = X_train.astype('float32')\n",
    "X_test = X_test.astype('float32')\n",
    "\n",
    "model.fit(X_train, y_train, batch_size=10, epochs=10, validation_split=0.2)\n",
    "\n",
    "model.evaluate(X_test, y_test)\n",
    "\n",
    "model.predict(X_test)\n",
    "\n"
   ]
  },
  {
   "cell_type": "code",
   "execution_count": 35,
   "metadata": {},
   "outputs": [
    {
     "name": "stdout",
     "output_type": "stream",
     "text": [
      "147/147 [==============================] - 0s 380us/step - loss: 0.5038 - accuracy: 0.9814\n",
      "Evaluation result on Test Data : Loss = 0.5038455724716187, accuracy = 0.9814181923866272\n"
     ]
    }
   ],
   "source": [
    "[test_loss, test_acc] = model.evaluate(X_test, y_test)  \n",
    "print(\"Evaluation result on Test Data : Loss = {}, accuracy = {}\".format(test_loss, test_acc))  "
   ]
  },
  {
   "cell_type": "code",
   "execution_count": 37,
   "metadata": {},
   "outputs": [
    {
     "name": "stdout",
     "output_type": "stream",
     "text": [
      "Epoch 1/10\n",
      "1499/1499 [==============================] - 3s 2ms/step - loss: 0.0036 - accuracy: 0.3672 - val_loss: 0.0048 - val_accuracy: 0.4130\n",
      "Epoch 2/10\n",
      "1499/1499 [==============================] - 2s 1ms/step - loss: 0.0036 - accuracy: 0.4590 - val_loss: 0.0048 - val_accuracy: 0.4754\n",
      "Epoch 3/10\n",
      "1499/1499 [==============================] - 2s 1ms/step - loss: 0.0036 - accuracy: 0.5004 - val_loss: 0.0048 - val_accuracy: 0.5411\n",
      "Epoch 4/10\n",
      "1499/1499 [==============================] - 2s 1ms/step - loss: 0.0036 - accuracy: 0.5990 - val_loss: 0.0048 - val_accuracy: 0.6356\n",
      "Epoch 5/10\n",
      "1499/1499 [==============================] - 3s 2ms/step - loss: 0.0036 - accuracy: 0.6527 - val_loss: 0.0048 - val_accuracy: 0.6975\n",
      "Epoch 6/10\n",
      "1499/1499 [==============================] - 2s 1ms/step - loss: 0.0036 - accuracy: 0.7312 - val_loss: 0.0048 - val_accuracy: 0.7640\n",
      "Epoch 7/10\n",
      "1499/1499 [==============================] - 2s 1ms/step - loss: 0.0036 - accuracy: 0.7865 - val_loss: 0.0048 - val_accuracy: 0.8179\n",
      "Epoch 8/10\n",
      "1499/1499 [==============================] - 2s 1ms/step - loss: 0.0036 - accuracy: 0.8373 - val_loss: 0.0048 - val_accuracy: 0.8628\n",
      "Epoch 9/10\n",
      "1499/1499 [==============================] - 2s 1ms/step - loss: 0.0036 - accuracy: 0.8799 - val_loss: 0.0048 - val_accuracy: 0.8972\n",
      "Epoch 10/10\n",
      "1499/1499 [==============================] - 2s 1ms/step - loss: 0.0036 - accuracy: 0.8994 - val_loss: 0.0048 - val_accuracy: 0.9135\n"
     ]
    },
    {
     "data": {
      "text/plain": [
       "<keras.src.callbacks.History at 0x34d2915d0>"
      ]
     },
     "execution_count": 37,
     "metadata": {},
     "output_type": "execute_result"
    }
   ],
   "source": [
    "# RNN model\n",
    "\n",
    "from keras.layers import SimpleRNN, Embedding\n",
    "from keras.layers import LSTM\n",
    "from keras.models import Sequential  \n",
    "from keras.layers import Dense  \n",
    "\n",
    "model = Sequential()  \n",
    "model.add(Embedding(10001, output_dim=16, input_length=3))  # Add an Embedding layer with input_dim=10001\n",
    "model.add(SimpleRNN(16))  # Add a SimpleRNN layer\n",
    "model.add(Dense(2, activation='softmax'))  # Add a Dense layer\n",
    "\n",
    "model.compile(optimizer='SGD', loss='squared_hinge', metrics=['accuracy'])  \n",
    "\n",
    "\n",
    "X_train = X_train.astype('float32')\n",
    "y_train = y_train.astype('float32')\n",
    "\n",
    "\n",
    "\n",
    "X_train['Timestamp'] = X_train['Timestamp'] / 1000000000\n",
    "X_test['Timestamp'] = X_test['Timestamp'] / 1000000000\n",
    "\n",
    "X_train['Latitude'] = X_train['Latitude'] + 100\n",
    "X_test['Latitude'] = X_test['Latitude'] + 100\n",
    "\n",
    "X_train['Longitude'] = X_train['Longitude'] + 200\n",
    "X_test['Longitude'] = X_test['Longitude'] + 200\n",
    "\n",
    "\n",
    "\n",
    "model.fit(X_train, y_train, batch_size=10, epochs=10, validation_split=0.2)\n"
   ]
  },
  {
   "cell_type": "code",
   "execution_count": 38,
   "metadata": {},
   "outputs": [
    {
     "name": "stdout",
     "output_type": "stream",
     "text": [
      "147/147 [==============================] - 0s 857us/step - loss: 0.0039 - accuracy: 0.9082\n",
      "Evaluation result on Test Data : Loss = 0.003918507602065802, accuracy = 0.9081588983535767\n"
     ]
    }
   ],
   "source": [
    "X_test_indices = X_test.astype(int)\n",
    "X_test_indices = np.clip(X_test_indices, 0, 10000)\n",
    "\n",
    "[test_loss, test_acc] = model.evaluate(X_test_indices, y_test)\n",
    "print(\"Evaluation result on Test Data : Loss = {}, accuracy = {}\".format(test_loss, test_acc))\n"
   ]
  },
  {
   "cell_type": "code",
   "execution_count": 43,
   "metadata": {},
   "outputs": [
    {
     "name": "stdout",
     "output_type": "stream",
     "text": [
      "          Timestamp    Latitude   Longitude\n",
      "13121  8.386518e-10  124.601997  322.281982\n",
      "17921  1.151164e-09   99.610001  323.195007\n",
      "3419   1.656469e-10   76.977997   24.888000\n",
      "20803  1.306189e-09  139.709000  343.247009\n",
      "15057  9.720515e-10   95.376999   93.956001\n",
      "...             ...         ...         ...\n",
      "10828  7.019929e-10   50.127998   86.255997\n",
      "22412  1.413073e-09  157.281998  166.733307\n",
      "18333  1.174765e-09   79.246002  369.354004\n",
      "11266  7.254732e-10   93.913002  313.049988\n",
      "9152   5.886828e-10   84.136002   27.932999\n",
      "\n",
      "[4682 rows x 3 columns]\n",
      "147/147 [==============================] - 0s 1ms/step\n",
      "\n",
      "[[0.48406318 0.51593685]\n",
      " [0.4933851  0.5066149 ]\n",
      " [0.48855925 0.51144075]\n",
      " [0.46720293 0.5327971 ]\n",
      " [0.5018415  0.4981585 ]]\n",
      "       Magnitude      Depth\n",
      "13121        5.5  74.300003\n",
      "17921        6.3  26.000000\n",
      "3419         5.6  33.000000\n",
      "20803        5.8  16.000000\n",
      "15057        5.5  10.000000\n"
     ]
    }
   ],
   "source": [
    "def getPredictions(model, X_test):\n",
    "    # X_test_indices = X_test.astype(int)\n",
    "    # X_test_indices = np.clip(X_test_indices, 0, 10000)\n",
    "    pred = model.predict(X_test)\n",
    "    return pred\n",
    "\n",
    "print(X_test)\n",
    "predictions = getPredictions(model, X_test)\n",
    "print()\n",
    "\n",
    "print(predictions[:5])\n",
    "print(y_test[:5])\n"
   ]
  },
  {
   "cell_type": "code",
   "execution_count": null,
   "metadata": {},
   "outputs": [],
   "source": []
  }
 ],
 "metadata": {
  "kernelspec": {
   "display_name": "Python 3",
   "language": "python",
   "name": "python3"
  },
  "language_info": {
   "codemirror_mode": {
    "name": "ipython",
    "version": 3
   },
   "file_extension": ".py",
   "mimetype": "text/x-python",
   "name": "python",
   "nbconvert_exporter": "python",
   "pygments_lexer": "ipython3",
   "version": "3.11.9"
  }
 },
 "nbformat": 4,
 "nbformat_minor": 2
}
